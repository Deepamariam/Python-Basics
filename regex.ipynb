{
  "nbformat": 4,
  "nbformat_minor": 0,
  "metadata": {
    "colab": {
      "name": "regex.ipynb",
      "provenance": [],
      "collapsed_sections": [],
      "authorship_tag": "ABX9TyOxq+8xqRJGOaBeLCq7fz3d",
      "include_colab_link": true
    },
    "kernelspec": {
      "name": "python3",
      "display_name": "Python 3"
    },
    "accelerator": "GPU"
  },
  "cells": [
    {
      "cell_type": "markdown",
      "metadata": {
        "id": "view-in-github",
        "colab_type": "text"
      },
      "source": [
        "<a href=\"https://colab.research.google.com/github/jeenu-chacko/Python-Basics/blob/master/regex.ipynb\" target=\"_parent\"><img src=\"https://colab.research.google.com/assets/colab-badge.svg\" alt=\"Open In Colab\"/></a>"
      ]
    },
    {
      "cell_type": "code",
      "metadata": {
        "id": "QxNmktjdIZQq",
        "colab_type": "code",
        "colab": {}
      },
      "source": [
        "import re\n",
        "txt = '''The rain in Spain The abc abc abc 1234567789 delter.com ABCGDJD\n",
        "          123-3455 123a-3455 Mr.ABC\n",
        "          Ms DEf\n",
        "          Mr FG\n",
        "          Mr. EGK'''\n"
      ],
      "execution_count": null,
      "outputs": []
    },
    {
      "cell_type": "code",
      "metadata": {
        "id": "gMkGXK54KER2",
        "colab_type": "code",
        "colab": {
          "base_uri": "https://localhost:8080/",
          "height": 34
        },
        "outputId": "99777f2d-9f66-4664-ecd6-d037d03f1957"
      },
      "source": [
        "print(\"\\ttab\")"
      ],
      "execution_count": null,
      "outputs": [
        {
          "output_type": "stream",
          "text": [
            "\ttab\n"
          ],
          "name": "stdout"
        }
      ]
    },
    {
      "cell_type": "code",
      "metadata": {
        "id": "cVBRO1u4JrCV",
        "colab_type": "code",
        "colab": {
          "base_uri": "https://localhost:8080/",
          "height": 34
        },
        "outputId": "f60bfb62-979d-48db-e53c-4c1a854d9fe3"
      },
      "source": [
        "print(r'\\ttab')"
      ],
      "execution_count": null,
      "outputs": [
        {
          "output_type": "stream",
          "text": [
            "\\ttab\n"
          ],
          "name": "stdout"
        }
      ]
    },
    {
      "cell_type": "code",
      "metadata": {
        "id": "bm-8vzd5KCvL",
        "colab_type": "code",
        "colab": {
          "base_uri": "https://localhost:8080/",
          "height": 68
        },
        "outputId": "86b54b09-2d07-405e-ba65-428807a7c6a0"
      },
      "source": [
        "pattern = re.compile(r'abc')\n",
        "matches = pattern.finditer(txt)\n",
        "\n",
        "for match in matches:\n",
        "  print(match)"
      ],
      "execution_count": null,
      "outputs": [
        {
          "output_type": "stream",
          "text": [
            "<_sre.SRE_Match object; span=(22, 25), match='abc'>\n",
            "<_sre.SRE_Match object; span=(26, 29), match='abc'>\n",
            "<_sre.SRE_Match object; span=(30, 33), match='abc'>\n"
          ],
          "name": "stdout"
        }
      ]
    },
    {
      "cell_type": "code",
      "metadata": {
        "id": "J_MJ9x6rLDPC",
        "colab_type": "code",
        "colab": {
          "base_uri": "https://localhost:8080/",
          "height": 51
        },
        "outputId": "b6a2acf6-bfe4-4c0e-f4ec-0a0574c3a77a"
      },
      "source": [
        "print(txt[18:21])\n",
        "print(txt[22:25])"
      ],
      "execution_count": null,
      "outputs": [
        {
          "output_type": "stream",
          "text": [
            "The\n",
            "abc\n"
          ],
          "name": "stdout"
        }
      ]
    },
    {
      "cell_type": "code",
      "metadata": {
        "id": "j2Q98ZUrMAZR",
        "colab_type": "code",
        "colab": {
          "base_uri": "https://localhost:8080/",
          "height": 34
        },
        "outputId": "06da20b7-fa48-482a-e7ff-ad285bb9d220"
      },
      "source": [
        "# MetaCharacter \n",
        "# . ^ * + ? [ ] { } \\ | ( )\n",
        "pattern = re.compile(r'delter\\.com')\n",
        "\n",
        "matches = pattern.finditer(txt)\n",
        "\n",
        "for match in matches:\n",
        "  print(match)\n"
      ],
      "execution_count": null,
      "outputs": [
        {
          "output_type": "stream",
          "text": [
            "<_sre.SRE_Match object; span=(45, 55), match='delter.com'>\n"
          ],
          "name": "stdout"
        }
      ]
    },
    {
      "cell_type": "code",
      "metadata": {
        "id": "sQIjOaKfQAI6",
        "colab_type": "code",
        "colab": {
          "base_uri": "https://localhost:8080/",
          "height": 1000
        },
        "outputId": "078e0962-7ca2-444f-bdb7-f1bc2a6d75bc"
      },
      "source": [
        "pattern = re.compile(r'.') #any character except except new line\n",
        "matches = pattern.finditer(txt)\n",
        "for match in matches:\n",
        "  print(match)\n",
        "\n",
        "#len(list(matches))"
      ],
      "execution_count": null,
      "outputs": [
        {
          "output_type": "stream",
          "text": [
            "<_sre.SRE_Match object; span=(0, 1), match='T'>\n",
            "<_sre.SRE_Match object; span=(1, 2), match='h'>\n",
            "<_sre.SRE_Match object; span=(2, 3), match='e'>\n",
            "<_sre.SRE_Match object; span=(3, 4), match=' '>\n",
            "<_sre.SRE_Match object; span=(4, 5), match='r'>\n",
            "<_sre.SRE_Match object; span=(5, 6), match='a'>\n",
            "<_sre.SRE_Match object; span=(6, 7), match='i'>\n",
            "<_sre.SRE_Match object; span=(7, 8), match='n'>\n",
            "<_sre.SRE_Match object; span=(8, 9), match=' '>\n",
            "<_sre.SRE_Match object; span=(9, 10), match='i'>\n",
            "<_sre.SRE_Match object; span=(10, 11), match='n'>\n",
            "<_sre.SRE_Match object; span=(11, 12), match=' '>\n",
            "<_sre.SRE_Match object; span=(12, 13), match='S'>\n",
            "<_sre.SRE_Match object; span=(13, 14), match='p'>\n",
            "<_sre.SRE_Match object; span=(14, 15), match='a'>\n",
            "<_sre.SRE_Match object; span=(15, 16), match='i'>\n",
            "<_sre.SRE_Match object; span=(16, 17), match='n'>\n",
            "<_sre.SRE_Match object; span=(17, 18), match=' '>\n",
            "<_sre.SRE_Match object; span=(18, 19), match='T'>\n",
            "<_sre.SRE_Match object; span=(19, 20), match='h'>\n",
            "<_sre.SRE_Match object; span=(20, 21), match='e'>\n",
            "<_sre.SRE_Match object; span=(21, 22), match=' '>\n",
            "<_sre.SRE_Match object; span=(22, 23), match='a'>\n",
            "<_sre.SRE_Match object; span=(23, 24), match='b'>\n",
            "<_sre.SRE_Match object; span=(24, 25), match='c'>\n",
            "<_sre.SRE_Match object; span=(25, 26), match=' '>\n",
            "<_sre.SRE_Match object; span=(26, 27), match='a'>\n",
            "<_sre.SRE_Match object; span=(27, 28), match='b'>\n",
            "<_sre.SRE_Match object; span=(28, 29), match='c'>\n",
            "<_sre.SRE_Match object; span=(29, 30), match=' '>\n",
            "<_sre.SRE_Match object; span=(30, 31), match='a'>\n",
            "<_sre.SRE_Match object; span=(31, 32), match='b'>\n",
            "<_sre.SRE_Match object; span=(32, 33), match='c'>\n",
            "<_sre.SRE_Match object; span=(33, 34), match=' '>\n",
            "<_sre.SRE_Match object; span=(34, 35), match='1'>\n",
            "<_sre.SRE_Match object; span=(35, 36), match='2'>\n",
            "<_sre.SRE_Match object; span=(36, 37), match='3'>\n",
            "<_sre.SRE_Match object; span=(37, 38), match='4'>\n",
            "<_sre.SRE_Match object; span=(38, 39), match='5'>\n",
            "<_sre.SRE_Match object; span=(39, 40), match='6'>\n",
            "<_sre.SRE_Match object; span=(40, 41), match='7'>\n",
            "<_sre.SRE_Match object; span=(41, 42), match='7'>\n",
            "<_sre.SRE_Match object; span=(42, 43), match='8'>\n",
            "<_sre.SRE_Match object; span=(43, 44), match='9'>\n",
            "<_sre.SRE_Match object; span=(44, 45), match=' '>\n",
            "<_sre.SRE_Match object; span=(45, 46), match='d'>\n",
            "<_sre.SRE_Match object; span=(46, 47), match='e'>\n",
            "<_sre.SRE_Match object; span=(47, 48), match='l'>\n",
            "<_sre.SRE_Match object; span=(48, 49), match='t'>\n",
            "<_sre.SRE_Match object; span=(49, 50), match='e'>\n",
            "<_sre.SRE_Match object; span=(50, 51), match='r'>\n",
            "<_sre.SRE_Match object; span=(51, 52), match='.'>\n",
            "<_sre.SRE_Match object; span=(52, 53), match='c'>\n",
            "<_sre.SRE_Match object; span=(53, 54), match='o'>\n",
            "<_sre.SRE_Match object; span=(54, 55), match='m'>\n",
            "<_sre.SRE_Match object; span=(55, 56), match=' '>\n",
            "<_sre.SRE_Match object; span=(56, 57), match='A'>\n",
            "<_sre.SRE_Match object; span=(57, 58), match='B'>\n",
            "<_sre.SRE_Match object; span=(58, 59), match='C'>\n",
            "<_sre.SRE_Match object; span=(59, 60), match='G'>\n",
            "<_sre.SRE_Match object; span=(60, 61), match='D'>\n",
            "<_sre.SRE_Match object; span=(61, 62), match='J'>\n",
            "<_sre.SRE_Match object; span=(62, 63), match='D'>\n",
            "<_sre.SRE_Match object; span=(64, 65), match=' '>\n",
            "<_sre.SRE_Match object; span=(65, 66), match=' '>\n",
            "<_sre.SRE_Match object; span=(66, 67), match=' '>\n",
            "<_sre.SRE_Match object; span=(67, 68), match=' '>\n",
            "<_sre.SRE_Match object; span=(68, 69), match=' '>\n",
            "<_sre.SRE_Match object; span=(69, 70), match=' '>\n",
            "<_sre.SRE_Match object; span=(70, 71), match=' '>\n",
            "<_sre.SRE_Match object; span=(71, 72), match=' '>\n",
            "<_sre.SRE_Match object; span=(72, 73), match=' '>\n",
            "<_sre.SRE_Match object; span=(73, 74), match=' '>\n",
            "<_sre.SRE_Match object; span=(74, 75), match='1'>\n",
            "<_sre.SRE_Match object; span=(75, 76), match='2'>\n",
            "<_sre.SRE_Match object; span=(76, 77), match='3'>\n",
            "<_sre.SRE_Match object; span=(77, 78), match='-'>\n",
            "<_sre.SRE_Match object; span=(78, 79), match='3'>\n",
            "<_sre.SRE_Match object; span=(79, 80), match='4'>\n",
            "<_sre.SRE_Match object; span=(80, 81), match='5'>\n",
            "<_sre.SRE_Match object; span=(81, 82), match='5'>\n",
            "<_sre.SRE_Match object; span=(82, 83), match=' '>\n",
            "<_sre.SRE_Match object; span=(83, 84), match='1'>\n",
            "<_sre.SRE_Match object; span=(84, 85), match='2'>\n",
            "<_sre.SRE_Match object; span=(85, 86), match='3'>\n",
            "<_sre.SRE_Match object; span=(86, 87), match='a'>\n",
            "<_sre.SRE_Match object; span=(87, 88), match='-'>\n",
            "<_sre.SRE_Match object; span=(88, 89), match='3'>\n",
            "<_sre.SRE_Match object; span=(89, 90), match='4'>\n",
            "<_sre.SRE_Match object; span=(90, 91), match='5'>\n",
            "<_sre.SRE_Match object; span=(91, 92), match='5'>\n",
            "<_sre.SRE_Match object; span=(92, 93), match=' '>\n",
            "<_sre.SRE_Match object; span=(93, 94), match='M'>\n",
            "<_sre.SRE_Match object; span=(94, 95), match='r'>\n",
            "<_sre.SRE_Match object; span=(95, 96), match='.'>\n",
            "<_sre.SRE_Match object; span=(96, 97), match='A'>\n",
            "<_sre.SRE_Match object; span=(97, 98), match='B'>\n",
            "<_sre.SRE_Match object; span=(98, 99), match='C'>\n",
            "<_sre.SRE_Match object; span=(100, 101), match=' '>\n",
            "<_sre.SRE_Match object; span=(101, 102), match=' '>\n",
            "<_sre.SRE_Match object; span=(102, 103), match=' '>\n",
            "<_sre.SRE_Match object; span=(103, 104), match=' '>\n",
            "<_sre.SRE_Match object; span=(104, 105), match=' '>\n",
            "<_sre.SRE_Match object; span=(105, 106), match=' '>\n",
            "<_sre.SRE_Match object; span=(106, 107), match=' '>\n",
            "<_sre.SRE_Match object; span=(107, 108), match=' '>\n",
            "<_sre.SRE_Match object; span=(108, 109), match=' '>\n",
            "<_sre.SRE_Match object; span=(109, 110), match=' '>\n",
            "<_sre.SRE_Match object; span=(110, 111), match='M'>\n",
            "<_sre.SRE_Match object; span=(111, 112), match='s'>\n",
            "<_sre.SRE_Match object; span=(112, 113), match=' '>\n",
            "<_sre.SRE_Match object; span=(113, 114), match='D'>\n",
            "<_sre.SRE_Match object; span=(114, 115), match='E'>\n",
            "<_sre.SRE_Match object; span=(115, 116), match='f'>\n",
            "<_sre.SRE_Match object; span=(117, 118), match=' '>\n",
            "<_sre.SRE_Match object; span=(118, 119), match=' '>\n",
            "<_sre.SRE_Match object; span=(119, 120), match=' '>\n",
            "<_sre.SRE_Match object; span=(120, 121), match=' '>\n",
            "<_sre.SRE_Match object; span=(121, 122), match=' '>\n",
            "<_sre.SRE_Match object; span=(122, 123), match=' '>\n",
            "<_sre.SRE_Match object; span=(123, 124), match=' '>\n",
            "<_sre.SRE_Match object; span=(124, 125), match=' '>\n",
            "<_sre.SRE_Match object; span=(125, 126), match=' '>\n",
            "<_sre.SRE_Match object; span=(126, 127), match=' '>\n",
            "<_sre.SRE_Match object; span=(127, 128), match='M'>\n",
            "<_sre.SRE_Match object; span=(128, 129), match='r'>\n",
            "<_sre.SRE_Match object; span=(129, 130), match=' '>\n",
            "<_sre.SRE_Match object; span=(130, 131), match='F'>\n",
            "<_sre.SRE_Match object; span=(131, 132), match='G'>\n",
            "<_sre.SRE_Match object; span=(133, 134), match=' '>\n",
            "<_sre.SRE_Match object; span=(134, 135), match=' '>\n",
            "<_sre.SRE_Match object; span=(135, 136), match=' '>\n",
            "<_sre.SRE_Match object; span=(136, 137), match=' '>\n",
            "<_sre.SRE_Match object; span=(137, 138), match=' '>\n",
            "<_sre.SRE_Match object; span=(138, 139), match=' '>\n",
            "<_sre.SRE_Match object; span=(139, 140), match=' '>\n",
            "<_sre.SRE_Match object; span=(140, 141), match=' '>\n",
            "<_sre.SRE_Match object; span=(141, 142), match=' '>\n",
            "<_sre.SRE_Match object; span=(142, 143), match=' '>\n",
            "<_sre.SRE_Match object; span=(143, 144), match='M'>\n",
            "<_sre.SRE_Match object; span=(144, 145), match='r'>\n",
            "<_sre.SRE_Match object; span=(145, 146), match='.'>\n",
            "<_sre.SRE_Match object; span=(146, 147), match=' '>\n",
            "<_sre.SRE_Match object; span=(147, 148), match='E'>\n",
            "<_sre.SRE_Match object; span=(148, 149), match='G'>\n",
            "<_sre.SRE_Match object; span=(149, 150), match='K'>\n"
          ],
          "name": "stdout"
        }
      ]
    },
    {
      "cell_type": "code",
      "metadata": {
        "id": "NmX-pwJVQVe3",
        "colab_type": "code",
        "colab": {
          "base_uri": "https://localhost:8080/",
          "height": 1000
        },
        "outputId": "1d982868-87ad-4453-b8e2-81a2bffadacf"
      },
      "source": [
        "l=0\n",
        "pattern = re.compile(r'\\D') #not a digit\n",
        "matches = pattern.finditer(txt)\n",
        "for match in matches:\n",
        "  print(match)\n",
        "  \n",
        "\n"
      ],
      "execution_count": null,
      "outputs": [
        {
          "output_type": "stream",
          "text": [
            "<_sre.SRE_Match object; span=(0, 1), match='T'>\n",
            "<_sre.SRE_Match object; span=(1, 2), match='h'>\n",
            "<_sre.SRE_Match object; span=(2, 3), match='e'>\n",
            "<_sre.SRE_Match object; span=(3, 4), match=' '>\n",
            "<_sre.SRE_Match object; span=(4, 5), match='r'>\n",
            "<_sre.SRE_Match object; span=(5, 6), match='a'>\n",
            "<_sre.SRE_Match object; span=(6, 7), match='i'>\n",
            "<_sre.SRE_Match object; span=(7, 8), match='n'>\n",
            "<_sre.SRE_Match object; span=(8, 9), match=' '>\n",
            "<_sre.SRE_Match object; span=(9, 10), match='i'>\n",
            "<_sre.SRE_Match object; span=(10, 11), match='n'>\n",
            "<_sre.SRE_Match object; span=(11, 12), match=' '>\n",
            "<_sre.SRE_Match object; span=(12, 13), match='S'>\n",
            "<_sre.SRE_Match object; span=(13, 14), match='p'>\n",
            "<_sre.SRE_Match object; span=(14, 15), match='a'>\n",
            "<_sre.SRE_Match object; span=(15, 16), match='i'>\n",
            "<_sre.SRE_Match object; span=(16, 17), match='n'>\n",
            "<_sre.SRE_Match object; span=(17, 18), match=' '>\n",
            "<_sre.SRE_Match object; span=(18, 19), match='T'>\n",
            "<_sre.SRE_Match object; span=(19, 20), match='h'>\n",
            "<_sre.SRE_Match object; span=(20, 21), match='e'>\n",
            "<_sre.SRE_Match object; span=(21, 22), match=' '>\n",
            "<_sre.SRE_Match object; span=(22, 23), match='a'>\n",
            "<_sre.SRE_Match object; span=(23, 24), match='b'>\n",
            "<_sre.SRE_Match object; span=(24, 25), match='c'>\n",
            "<_sre.SRE_Match object; span=(25, 26), match=' '>\n",
            "<_sre.SRE_Match object; span=(26, 27), match='a'>\n",
            "<_sre.SRE_Match object; span=(27, 28), match='b'>\n",
            "<_sre.SRE_Match object; span=(28, 29), match='c'>\n",
            "<_sre.SRE_Match object; span=(29, 30), match=' '>\n",
            "<_sre.SRE_Match object; span=(30, 31), match='a'>\n",
            "<_sre.SRE_Match object; span=(31, 32), match='b'>\n",
            "<_sre.SRE_Match object; span=(32, 33), match='c'>\n",
            "<_sre.SRE_Match object; span=(33, 34), match=' '>\n",
            "<_sre.SRE_Match object; span=(44, 45), match=' '>\n",
            "<_sre.SRE_Match object; span=(45, 46), match='d'>\n",
            "<_sre.SRE_Match object; span=(46, 47), match='e'>\n",
            "<_sre.SRE_Match object; span=(47, 48), match='l'>\n",
            "<_sre.SRE_Match object; span=(48, 49), match='t'>\n",
            "<_sre.SRE_Match object; span=(49, 50), match='e'>\n",
            "<_sre.SRE_Match object; span=(50, 51), match='r'>\n",
            "<_sre.SRE_Match object; span=(51, 52), match='.'>\n",
            "<_sre.SRE_Match object; span=(52, 53), match='c'>\n",
            "<_sre.SRE_Match object; span=(53, 54), match='o'>\n",
            "<_sre.SRE_Match object; span=(54, 55), match='m'>\n",
            "<_sre.SRE_Match object; span=(55, 56), match=' '>\n",
            "<_sre.SRE_Match object; span=(56, 57), match='A'>\n",
            "<_sre.SRE_Match object; span=(57, 58), match='B'>\n",
            "<_sre.SRE_Match object; span=(58, 59), match='C'>\n",
            "<_sre.SRE_Match object; span=(59, 60), match='G'>\n",
            "<_sre.SRE_Match object; span=(60, 61), match='D'>\n",
            "<_sre.SRE_Match object; span=(61, 62), match='J'>\n",
            "<_sre.SRE_Match object; span=(62, 63), match='D'>\n",
            "<_sre.SRE_Match object; span=(63, 64), match='\\n'>\n",
            "<_sre.SRE_Match object; span=(64, 65), match=' '>\n",
            "<_sre.SRE_Match object; span=(65, 66), match=' '>\n",
            "<_sre.SRE_Match object; span=(66, 67), match=' '>\n",
            "<_sre.SRE_Match object; span=(67, 68), match=' '>\n",
            "<_sre.SRE_Match object; span=(68, 69), match=' '>\n",
            "<_sre.SRE_Match object; span=(69, 70), match=' '>\n",
            "<_sre.SRE_Match object; span=(70, 71), match=' '>\n",
            "<_sre.SRE_Match object; span=(71, 72), match=' '>\n",
            "<_sre.SRE_Match object; span=(72, 73), match=' '>\n",
            "<_sre.SRE_Match object; span=(73, 74), match=' '>\n",
            "<_sre.SRE_Match object; span=(77, 78), match='-'>\n",
            "<_sre.SRE_Match object; span=(82, 83), match=' '>\n",
            "<_sre.SRE_Match object; span=(86, 87), match='a'>\n",
            "<_sre.SRE_Match object; span=(87, 88), match='-'>\n",
            "<_sre.SRE_Match object; span=(92, 93), match=' '>\n",
            "<_sre.SRE_Match object; span=(93, 94), match='M'>\n",
            "<_sre.SRE_Match object; span=(94, 95), match='r'>\n",
            "<_sre.SRE_Match object; span=(95, 96), match='.'>\n",
            "<_sre.SRE_Match object; span=(96, 97), match='A'>\n",
            "<_sre.SRE_Match object; span=(97, 98), match='B'>\n",
            "<_sre.SRE_Match object; span=(98, 99), match='C'>\n",
            "<_sre.SRE_Match object; span=(99, 100), match='\\n'>\n",
            "<_sre.SRE_Match object; span=(100, 101), match=' '>\n",
            "<_sre.SRE_Match object; span=(101, 102), match=' '>\n",
            "<_sre.SRE_Match object; span=(102, 103), match=' '>\n",
            "<_sre.SRE_Match object; span=(103, 104), match=' '>\n",
            "<_sre.SRE_Match object; span=(104, 105), match=' '>\n",
            "<_sre.SRE_Match object; span=(105, 106), match=' '>\n",
            "<_sre.SRE_Match object; span=(106, 107), match=' '>\n",
            "<_sre.SRE_Match object; span=(107, 108), match=' '>\n",
            "<_sre.SRE_Match object; span=(108, 109), match=' '>\n",
            "<_sre.SRE_Match object; span=(109, 110), match=' '>\n",
            "<_sre.SRE_Match object; span=(110, 111), match='M'>\n",
            "<_sre.SRE_Match object; span=(111, 112), match='s'>\n",
            "<_sre.SRE_Match object; span=(112, 113), match=' '>\n",
            "<_sre.SRE_Match object; span=(113, 114), match='D'>\n",
            "<_sre.SRE_Match object; span=(114, 115), match='E'>\n",
            "<_sre.SRE_Match object; span=(115, 116), match='f'>\n",
            "<_sre.SRE_Match object; span=(116, 117), match='\\n'>\n",
            "<_sre.SRE_Match object; span=(117, 118), match=' '>\n",
            "<_sre.SRE_Match object; span=(118, 119), match=' '>\n",
            "<_sre.SRE_Match object; span=(119, 120), match=' '>\n",
            "<_sre.SRE_Match object; span=(120, 121), match=' '>\n",
            "<_sre.SRE_Match object; span=(121, 122), match=' '>\n",
            "<_sre.SRE_Match object; span=(122, 123), match=' '>\n",
            "<_sre.SRE_Match object; span=(123, 124), match=' '>\n",
            "<_sre.SRE_Match object; span=(124, 125), match=' '>\n",
            "<_sre.SRE_Match object; span=(125, 126), match=' '>\n",
            "<_sre.SRE_Match object; span=(126, 127), match=' '>\n",
            "<_sre.SRE_Match object; span=(127, 128), match='M'>\n",
            "<_sre.SRE_Match object; span=(128, 129), match='r'>\n",
            "<_sre.SRE_Match object; span=(129, 130), match=' '>\n",
            "<_sre.SRE_Match object; span=(130, 131), match='F'>\n",
            "<_sre.SRE_Match object; span=(131, 132), match='G'>\n",
            "<_sre.SRE_Match object; span=(132, 133), match='\\n'>\n",
            "<_sre.SRE_Match object; span=(133, 134), match=' '>\n",
            "<_sre.SRE_Match object; span=(134, 135), match=' '>\n",
            "<_sre.SRE_Match object; span=(135, 136), match=' '>\n",
            "<_sre.SRE_Match object; span=(136, 137), match=' '>\n",
            "<_sre.SRE_Match object; span=(137, 138), match=' '>\n",
            "<_sre.SRE_Match object; span=(138, 139), match=' '>\n",
            "<_sre.SRE_Match object; span=(139, 140), match=' '>\n",
            "<_sre.SRE_Match object; span=(140, 141), match=' '>\n",
            "<_sre.SRE_Match object; span=(141, 142), match=' '>\n",
            "<_sre.SRE_Match object; span=(142, 143), match=' '>\n",
            "<_sre.SRE_Match object; span=(143, 144), match='M'>\n",
            "<_sre.SRE_Match object; span=(144, 145), match='r'>\n",
            "<_sre.SRE_Match object; span=(145, 146), match='.'>\n",
            "<_sre.SRE_Match object; span=(146, 147), match=' '>\n",
            "<_sre.SRE_Match object; span=(147, 148), match='E'>\n",
            "<_sre.SRE_Match object; span=(148, 149), match='G'>\n",
            "<_sre.SRE_Match object; span=(149, 150), match='K'>\n"
          ],
          "name": "stdout"
        }
      ]
    },
    {
      "cell_type": "markdown",
      "metadata": {
        "id": "2EN48sSHT6VD",
        "colab_type": "text"
      },
      "source": [
        " \\w (a-z,A-Z,0-9.,_)  \\W not word....\\s whitespaces(space,tab, newline).....\\S not Whitespace(space,tab,newline)\n",
        "\n",
        "anchors\n",
        "\\b - word boundary (space before)\n",
        "\\B - not word boundary\n",
        "^ - beginning of a string\n",
        "$ - End of string"
      ]
    },
    {
      "cell_type": "code",
      "metadata": {
        "id": "bTGl_qlPSfwv",
        "colab_type": "code",
        "colab": {
          "base_uri": "https://localhost:8080/",
          "height": 34
        },
        "outputId": "809b9851-7d2f-4aaa-e51c-4c909716e04d"
      },
      "source": [
        "\n",
        "pattern = re.compile(r'^The') \n",
        "matches = pattern.finditer(txt)\n",
        "for match in matches:\n",
        "  print(match)\n",
        "  "
      ],
      "execution_count": null,
      "outputs": [
        {
          "output_type": "stream",
          "text": [
            "<_sre.SRE_Match object; span=(0, 3), match='The'>\n"
          ],
          "name": "stdout"
        }
      ]
    },
    {
      "cell_type": "code",
      "metadata": {
        "id": "r0sBbH-1YmdK",
        "colab_type": "code",
        "colab": {
          "base_uri": "https://localhost:8080/",
          "height": 51
        },
        "outputId": "51c9fdf6-9414-40bb-a756-59210c47e6f2"
      },
      "source": [
        "pattern = re.compile(r'\\d\\d\\d.\\d\\d\\d')  # '.' will any character\n",
        "matches = pattern.finditer(txt)\n",
        "for match in matches:\n",
        "  print(match)"
      ],
      "execution_count": null,
      "outputs": [
        {
          "output_type": "stream",
          "text": [
            "<_sre.SRE_Match object; span=(34, 41), match='1234567'>\n",
            "<_sre.SRE_Match object; span=(74, 81), match='123-345'>\n"
          ],
          "name": "stdout"
        }
      ]
    },
    {
      "cell_type": "markdown",
      "metadata": {
        "id": "OTIM9wRZf6NS",
        "colab_type": "text"
      },
      "source": [
        "Character set (range of elemments)\n",
        " []\n"
      ]
    },
    {
      "cell_type": "code",
      "metadata": {
        "id": "KIXruUQXd3_z",
        "colab_type": "code",
        "colab": {
          "base_uri": "https://localhost:8080/",
          "height": 34
        },
        "outputId": "def548d5-2635-4ed4-f888-ce071e26df40"
      },
      "source": [
        "pattern = re.compile(r'\\d\\d\\d[-,.]\\d\\d\\d')  \n",
        "matches = pattern.finditer(txt)\n",
        "for match in matches:\n",
        "  print(match)"
      ],
      "execution_count": null,
      "outputs": [
        {
          "output_type": "stream",
          "text": [
            "<_sre.SRE_Match object; span=(74, 81), match='123-345'>\n"
          ],
          "name": "stdout"
        }
      ]
    },
    {
      "cell_type": "code",
      "metadata": {
        "id": "5dnHTiObaT3V",
        "colab_type": "code",
        "colab": {
          "base_uri": "https://localhost:8080/",
          "height": 34
        },
        "outputId": "01cbe427-7c72-454d-af93-1b262366c24c"
      },
      "source": [
        "pattern = re.compile(r'\\d\\d\\da-\\d\\d\\d\\d')  \n",
        "matches = pattern.finditer(txt)\n",
        "for match in matches:\n",
        "  print(match)"
      ],
      "execution_count": null,
      "outputs": [
        {
          "output_type": "stream",
          "text": [
            "<_sre.SRE_Match object; span=(83, 92), match='123a-3455'>\n"
          ],
          "name": "stdout"
        }
      ]
    },
    {
      "cell_type": "code",
      "metadata": {
        "id": "qFT-p6GvhDZ5",
        "colab_type": "code",
        "colab": {
          "base_uri": "https://localhost:8080/",
          "height": 340
        },
        "outputId": "460e2b5c-9eb8-4f96-df57-9feaf6bfc17b"
      },
      "source": [
        "pattern = re.compile(r'\\b[a-zA-Z]')  \n",
        "matches = pattern.finditer(txt)\n",
        "for match in matches:\n",
        "  print(match)"
      ],
      "execution_count": null,
      "outputs": [
        {
          "output_type": "stream",
          "text": [
            "<_sre.SRE_Match object; span=(0, 1), match='T'>\n",
            "<_sre.SRE_Match object; span=(4, 5), match='r'>\n",
            "<_sre.SRE_Match object; span=(9, 10), match='i'>\n",
            "<_sre.SRE_Match object; span=(12, 13), match='S'>\n",
            "<_sre.SRE_Match object; span=(18, 19), match='T'>\n",
            "<_sre.SRE_Match object; span=(22, 23), match='a'>\n",
            "<_sre.SRE_Match object; span=(26, 27), match='a'>\n",
            "<_sre.SRE_Match object; span=(30, 31), match='a'>\n",
            "<_sre.SRE_Match object; span=(45, 46), match='d'>\n",
            "<_sre.SRE_Match object; span=(52, 53), match='c'>\n",
            "<_sre.SRE_Match object; span=(56, 57), match='A'>\n",
            "<_sre.SRE_Match object; span=(93, 94), match='M'>\n",
            "<_sre.SRE_Match object; span=(96, 97), match='A'>\n",
            "<_sre.SRE_Match object; span=(110, 111), match='M'>\n",
            "<_sre.SRE_Match object; span=(113, 114), match='D'>\n",
            "<_sre.SRE_Match object; span=(127, 128), match='M'>\n",
            "<_sre.SRE_Match object; span=(130, 131), match='F'>\n",
            "<_sre.SRE_Match object; span=(143, 144), match='M'>\n",
            "<_sre.SRE_Match object; span=(147, 148), match='E'>\n"
          ],
          "name": "stdout"
        }
      ]
    },
    {
      "cell_type": "code",
      "metadata": {
        "id": "k8vzrJLrh9nL",
        "colab_type": "code",
        "colab": {
          "base_uri": "https://localhost:8080/",
          "height": 1000
        },
        "outputId": "0b916926-d712-47e9-cda5-2e42d70a472b"
      },
      "source": [
        "pattern = re.compile(r'[^a-zA-Z]')  \n",
        "matches = pattern.finditer(txt)\n",
        "for match in matches:\n",
        "  print(match)"
      ],
      "execution_count": null,
      "outputs": [
        {
          "output_type": "stream",
          "text": [
            "<_sre.SRE_Match object; span=(3, 4), match=' '>\n",
            "<_sre.SRE_Match object; span=(8, 9), match=' '>\n",
            "<_sre.SRE_Match object; span=(11, 12), match=' '>\n",
            "<_sre.SRE_Match object; span=(17, 18), match=' '>\n",
            "<_sre.SRE_Match object; span=(21, 22), match=' '>\n",
            "<_sre.SRE_Match object; span=(25, 26), match=' '>\n",
            "<_sre.SRE_Match object; span=(29, 30), match=' '>\n",
            "<_sre.SRE_Match object; span=(33, 34), match=' '>\n",
            "<_sre.SRE_Match object; span=(34, 35), match='1'>\n",
            "<_sre.SRE_Match object; span=(35, 36), match='2'>\n",
            "<_sre.SRE_Match object; span=(36, 37), match='3'>\n",
            "<_sre.SRE_Match object; span=(37, 38), match='4'>\n",
            "<_sre.SRE_Match object; span=(38, 39), match='5'>\n",
            "<_sre.SRE_Match object; span=(39, 40), match='6'>\n",
            "<_sre.SRE_Match object; span=(40, 41), match='7'>\n",
            "<_sre.SRE_Match object; span=(41, 42), match='7'>\n",
            "<_sre.SRE_Match object; span=(42, 43), match='8'>\n",
            "<_sre.SRE_Match object; span=(43, 44), match='9'>\n",
            "<_sre.SRE_Match object; span=(44, 45), match=' '>\n",
            "<_sre.SRE_Match object; span=(51, 52), match='.'>\n",
            "<_sre.SRE_Match object; span=(55, 56), match=' '>\n",
            "<_sre.SRE_Match object; span=(63, 64), match='\\n'>\n",
            "<_sre.SRE_Match object; span=(64, 65), match=' '>\n",
            "<_sre.SRE_Match object; span=(65, 66), match=' '>\n",
            "<_sre.SRE_Match object; span=(66, 67), match=' '>\n",
            "<_sre.SRE_Match object; span=(67, 68), match=' '>\n",
            "<_sre.SRE_Match object; span=(68, 69), match=' '>\n",
            "<_sre.SRE_Match object; span=(69, 70), match=' '>\n",
            "<_sre.SRE_Match object; span=(70, 71), match=' '>\n",
            "<_sre.SRE_Match object; span=(71, 72), match=' '>\n",
            "<_sre.SRE_Match object; span=(72, 73), match=' '>\n",
            "<_sre.SRE_Match object; span=(73, 74), match=' '>\n",
            "<_sre.SRE_Match object; span=(74, 75), match='1'>\n",
            "<_sre.SRE_Match object; span=(75, 76), match='2'>\n",
            "<_sre.SRE_Match object; span=(76, 77), match='3'>\n",
            "<_sre.SRE_Match object; span=(77, 78), match='-'>\n",
            "<_sre.SRE_Match object; span=(78, 79), match='3'>\n",
            "<_sre.SRE_Match object; span=(79, 80), match='4'>\n",
            "<_sre.SRE_Match object; span=(80, 81), match='5'>\n",
            "<_sre.SRE_Match object; span=(81, 82), match='5'>\n",
            "<_sre.SRE_Match object; span=(82, 83), match=' '>\n",
            "<_sre.SRE_Match object; span=(83, 84), match='1'>\n",
            "<_sre.SRE_Match object; span=(84, 85), match='2'>\n",
            "<_sre.SRE_Match object; span=(85, 86), match='3'>\n",
            "<_sre.SRE_Match object; span=(87, 88), match='-'>\n",
            "<_sre.SRE_Match object; span=(88, 89), match='3'>\n",
            "<_sre.SRE_Match object; span=(89, 90), match='4'>\n",
            "<_sre.SRE_Match object; span=(90, 91), match='5'>\n",
            "<_sre.SRE_Match object; span=(91, 92), match='5'>\n",
            "<_sre.SRE_Match object; span=(92, 93), match=' '>\n",
            "<_sre.SRE_Match object; span=(95, 96), match='.'>\n",
            "<_sre.SRE_Match object; span=(99, 100), match='\\n'>\n",
            "<_sre.SRE_Match object; span=(100, 101), match=' '>\n",
            "<_sre.SRE_Match object; span=(101, 102), match=' '>\n",
            "<_sre.SRE_Match object; span=(102, 103), match=' '>\n",
            "<_sre.SRE_Match object; span=(103, 104), match=' '>\n",
            "<_sre.SRE_Match object; span=(104, 105), match=' '>\n",
            "<_sre.SRE_Match object; span=(105, 106), match=' '>\n",
            "<_sre.SRE_Match object; span=(106, 107), match=' '>\n",
            "<_sre.SRE_Match object; span=(107, 108), match=' '>\n",
            "<_sre.SRE_Match object; span=(108, 109), match=' '>\n",
            "<_sre.SRE_Match object; span=(109, 110), match=' '>\n",
            "<_sre.SRE_Match object; span=(112, 113), match=' '>\n",
            "<_sre.SRE_Match object; span=(116, 117), match='\\n'>\n",
            "<_sre.SRE_Match object; span=(117, 118), match=' '>\n",
            "<_sre.SRE_Match object; span=(118, 119), match=' '>\n",
            "<_sre.SRE_Match object; span=(119, 120), match=' '>\n",
            "<_sre.SRE_Match object; span=(120, 121), match=' '>\n",
            "<_sre.SRE_Match object; span=(121, 122), match=' '>\n",
            "<_sre.SRE_Match object; span=(122, 123), match=' '>\n",
            "<_sre.SRE_Match object; span=(123, 124), match=' '>\n",
            "<_sre.SRE_Match object; span=(124, 125), match=' '>\n",
            "<_sre.SRE_Match object; span=(125, 126), match=' '>\n",
            "<_sre.SRE_Match object; span=(126, 127), match=' '>\n",
            "<_sre.SRE_Match object; span=(129, 130), match=' '>\n",
            "<_sre.SRE_Match object; span=(132, 133), match='\\n'>\n",
            "<_sre.SRE_Match object; span=(133, 134), match=' '>\n",
            "<_sre.SRE_Match object; span=(134, 135), match=' '>\n",
            "<_sre.SRE_Match object; span=(135, 136), match=' '>\n",
            "<_sre.SRE_Match object; span=(136, 137), match=' '>\n",
            "<_sre.SRE_Match object; span=(137, 138), match=' '>\n",
            "<_sre.SRE_Match object; span=(138, 139), match=' '>\n",
            "<_sre.SRE_Match object; span=(139, 140), match=' '>\n",
            "<_sre.SRE_Match object; span=(140, 141), match=' '>\n",
            "<_sre.SRE_Match object; span=(141, 142), match=' '>\n",
            "<_sre.SRE_Match object; span=(142, 143), match=' '>\n",
            "<_sre.SRE_Match object; span=(145, 146), match='.'>\n",
            "<_sre.SRE_Match object; span=(146, 147), match=' '>\n"
          ],
          "name": "stdout"
        }
      ]
    },
    {
      "cell_type": "code",
      "metadata": {
        "id": "PdNM4nkNiB47",
        "colab_type": "code",
        "colab": {}
      },
      "source": [
        "#############\n",
        "# Quantifiers\n",
        "# * - 0 or More\n",
        "# + - 1 or More\n",
        "# ? - 0 or None\n",
        "# {3} - Exact No\n",
        "# {3,4} - Exact no min-3,max-4"
      ],
      "execution_count": null,
      "outputs": []
    },
    {
      "cell_type": "code",
      "metadata": {
        "id": "vqr16mpvjt7J",
        "colab_type": "code",
        "colab": {
          "base_uri": "https://localhost:8080/",
          "height": 34
        },
        "outputId": "2db2bbba-9d00-46ae-a6d5-f852bd4d6a41"
      },
      "source": [
        "# pattern = re.compile(r'\\d\\d\\da-\\d\\d\\d\\d')  \n",
        "# matches = pattern.finditer(txt)\n",
        "# for match in matches:\n",
        "#   print(match)\n",
        "\n",
        "pattern = re.compile(r'\\d{3}a-\\d{4}')\n",
        "matches = pattern.finditer(txt)\n",
        "for match in matches:\n",
        "  print(match) \n"
      ],
      "execution_count": null,
      "outputs": [
        {
          "output_type": "stream",
          "text": [
            "<_sre.SRE_Match object; span=(83, 92), match='123a-3455'>\n"
          ],
          "name": "stdout"
        }
      ]
    },
    {
      "cell_type": "code",
      "metadata": {
        "id": "PYZwzYWlkwTw",
        "colab_type": "code",
        "colab": {
          "base_uri": "https://localhost:8080/",
          "height": 68
        },
        "outputId": "93c77068-c156-408d-f8c2-97b865ba750e"
      },
      "source": [
        "\n",
        "pattern = re.compile(r'Mr\\.?')\n",
        "matches = pattern.finditer(txt)\n",
        "for match in matches:\n",
        "  print(match[0])"
      ],
      "execution_count": null,
      "outputs": [
        {
          "output_type": "stream",
          "text": [
            "Mr.\n",
            "Mr\n",
            "Mr.\n"
          ],
          "name": "stdout"
        }
      ]
    },
    {
      "cell_type": "code",
      "metadata": {
        "id": "GNNF-tUcl1OX",
        "colab_type": "code",
        "colab": {
          "base_uri": "https://localhost:8080/",
          "height": 68
        },
        "outputId": "44911f29-06ca-4c1b-e05e-aa7292c22a7c"
      },
      "source": [
        "pattern = re.compile(r'Mr\\.?')\n",
        "matches = pattern.finditer(txt)\n",
        "for match in matches:\n",
        "  print(match)"
      ],
      "execution_count": null,
      "outputs": [
        {
          "output_type": "stream",
          "text": [
            "<_sre.SRE_Match object; span=(93, 96), match='Mr.'>\n",
            "<_sre.SRE_Match object; span=(127, 129), match='Mr'>\n",
            "<_sre.SRE_Match object; span=(143, 146), match='Mr.'>\n"
          ],
          "name": "stdout"
        }
      ]
    },
    {
      "cell_type": "code",
      "metadata": {
        "id": "rd0oDfJQmnOv",
        "colab_type": "code",
        "colab": {
          "base_uri": "https://localhost:8080/",
          "height": 68
        },
        "outputId": "323a4d3a-1c6c-429d-a288-ca9cdb72d2cb"
      },
      "source": [
        "pattern = re.compile(r'M(r|s|rs)\\.?\\s[A-Z]\\w*')  #() group\n",
        "matches = pattern.finditer(txt)\n",
        "for match in matches:\n",
        "  print(match)"
      ],
      "execution_count": null,
      "outputs": [
        {
          "output_type": "stream",
          "text": [
            "<_sre.SRE_Match object; span=(110, 116), match='Ms DEf'>\n",
            "<_sre.SRE_Match object; span=(127, 132), match='Mr FG'>\n",
            "<_sre.SRE_Match object; span=(143, 150), match='Mr. EGK'>\n"
          ],
          "name": "stdout"
        }
      ]
    },
    {
      "cell_type": "code",
      "metadata": {
        "id": "HIKsOJqTottJ",
        "colab_type": "code",
        "colab": {
          "base_uri": "https://localhost:8080/",
          "height": 51
        },
        "outputId": "59853934-42c9-4029-8794-a385d8f249e3"
      },
      "source": [
        "urls = '''\n",
        "https://www.google.com\n",
        "http://youtube.com\n",
        "'''\n",
        "\n",
        "pattern=re.compile(r'https?://(www.)?\\w+\\.com')\n",
        "matches = pattern.finditer(urls)\n",
        "\n",
        "for match in matches:\n",
        "  print(match)"
      ],
      "execution_count": null,
      "outputs": [
        {
          "output_type": "stream",
          "text": [
            "<_sre.SRE_Match object; span=(1, 23), match='https://www.google.com'>\n",
            "<_sre.SRE_Match object; span=(24, 42), match='http://youtube.com'>\n"
          ],
          "name": "stdout"
        }
      ]
    },
    {
      "cell_type": "code",
      "metadata": {
        "id": "W-XNbwpvppSn",
        "colab_type": "code",
        "colab": {
          "base_uri": "https://localhost:8080/",
          "height": 51
        },
        "outputId": "f11fdd36-c8ed-4def-c8f6-25157b83c0cb"
      },
      "source": [
        "#capture only domain\n",
        "pattern=re.compile(r'https?://(www.)?(\\w+)\\.com')\n",
        "matches = pattern.finditer(urls)\n",
        "\n",
        "for match in matches:\n",
        "  print(match[2])\n",
        "#####domain is in group 2"
      ],
      "execution_count": null,
      "outputs": [
        {
          "output_type": "stream",
          "text": [
            "google\n",
            "youtube\n"
          ],
          "name": "stdout"
        }
      ]
    },
    {
      "cell_type": "code",
      "metadata": {
        "id": "helnLudGqLpB",
        "colab_type": "code",
        "colab": {
          "base_uri": "https://localhost:8080/",
          "height": 85
        },
        "outputId": "cb2bd527-2282-46ab-8b8e-475b481a83af"
      },
      "source": [
        "pattern=re.compile(r'https?://(www.)?(\\w+)\\.com')\n",
        "\n",
        "sub = pattern.sub(r'\\2',urls)\n",
        "print(sub)\n"
      ],
      "execution_count": null,
      "outputs": [
        {
          "output_type": "stream",
          "text": [
            "\n",
            "google\n",
            "youtube\n",
            "\n"
          ],
          "name": "stdout"
        }
      ]
    },
    {
      "cell_type": "code",
      "metadata": {
        "id": "l_APhJ0BqQnc",
        "colab_type": "code",
        "colab": {
          "base_uri": "https://localhost:8080/",
          "height": 51
        },
        "outputId": "a8dd995e-8cac-40a8-a394-cf4dd2f71527"
      },
      "source": [
        "#sub group\n",
        "txt='abcabciujabcabc'\n",
        "pattern=re.compile(r'abca')\n",
        "matches = pattern.finditer(txt)\n",
        "\n",
        "for match in matches:\n",
        "  print(match)"
      ],
      "execution_count": null,
      "outputs": [
        {
          "output_type": "stream",
          "text": [
            "<_sre.SRE_Match object; span=(0, 4), match='abca'>\n",
            "<_sre.SRE_Match object; span=(9, 13), match='abca'>\n"
          ],
          "name": "stdout"
        }
      ]
    },
    {
      "cell_type": "code",
      "metadata": {
        "id": "piQEtyCIse7_",
        "colab_type": "code",
        "colab": {
          "base_uri": "https://localhost:8080/",
          "height": 51
        },
        "outputId": "5c367f82-e1ec-46c1-dbe1-fc7e76d69ff7"
      },
      "source": [
        "#findall\n",
        "\n",
        "txt ='abcabciujabcabc'\n",
        "pattern =re.compile(r'abca')\n",
        "\n",
        "matches = pattern.findall(txt)\n",
        "for match in matches:\n",
        "  print(match)"
      ],
      "execution_count": null,
      "outputs": [
        {
          "output_type": "stream",
          "text": [
            "abca\n",
            "abca\n"
          ],
          "name": "stdout"
        }
      ]
    },
    {
      "cell_type": "code",
      "metadata": {
        "id": "7biMHTK0tBcY",
        "colab_type": "code",
        "colab": {
          "base_uri": "https://localhost:8080/",
          "height": 34
        },
        "outputId": "d058071f-c123-4558-a9d7-dfc3c77aa83e"
      },
      "source": [
        "txt ='abcabciujabcabc'\n",
        "pattern =re.compile(r'abca')\n",
        "matches = pattern.search(txt,re.I) #re.I is optional \n",
        "print(match)\n"
      ],
      "execution_count": null,
      "outputs": [
        {
          "output_type": "stream",
          "text": [
            "abca\n"
          ],
          "name": "stdout"
        }
      ]
    }
  ]
}