{
  "nbformat": 4,
  "nbformat_minor": 0,
  "metadata": {
    "colab": {
      "name": "set.ipynb",
      "provenance": [],
      "authorship_tag": "ABX9TyOq+IBtnd2paR6I7JwuayoY",
      "include_colab_link": true
    },
    "kernelspec": {
      "name": "python3",
      "display_name": "Python 3"
    }
  },
  "cells": [
    {
      "cell_type": "markdown",
      "metadata": {
        "id": "view-in-github",
        "colab_type": "text"
      },
      "source": [
        "<a href=\"https://colab.research.google.com/github/jeenu-chacko/Python-Basics/blob/master/set.ipynb\" target=\"_parent\"><img src=\"https://colab.research.google.com/assets/colab-badge.svg\" alt=\"Open In Colab\"/></a>"
      ]
    },
    {
      "cell_type": "markdown",
      "metadata": {
        "id": "kmSxW8xq_WG0",
        "colab_type": "text"
      },
      "source": [
        "# **SET**\n",
        "\n",
        "A set is a collection which is unordered and unindexed. In Python sets are written with curly brackets"
      ]
    },
    {
      "cell_type": "code",
      "metadata": {
        "id": "WcTtIQHA_QgS",
        "colab_type": "code",
        "colab": {
          "base_uri": "https://localhost:8080/",
          "height": 85
        },
        "outputId": "359bc477-b706-47df-fa3b-124d47dec6c0"
      },
      "source": [
        "#empty set\n",
        "s1= {}\n",
        "set_1 = {'a','b','c',1}\n",
        "\n",
        "for x in set_1:\n",
        "  print(x)"
      ],
      "execution_count": 2,
      "outputs": [
        {
          "output_type": "stream",
          "text": [
            "b\n",
            "1\n",
            "a\n",
            "c\n"
          ],
          "name": "stdout"
        }
      ]
    },
    {
      "cell_type": "markdown",
      "metadata": {
        "id": "q9pS9wTDA-5d",
        "colab_type": "text"
      },
      "source": [
        "Appending the set"
      ]
    },
    {
      "cell_type": "code",
      "metadata": {
        "id": "MiSzInWBBADK",
        "colab_type": "code",
        "colab": {
          "base_uri": "https://localhost:8080/",
          "height": 34
        },
        "outputId": "3c80d80d-da31-42b6-8581-0561170c316b"
      },
      "source": [
        "set_1.add(5)\n",
        "print(set_1)"
      ],
      "execution_count": 3,
      "outputs": [
        {
          "output_type": "stream",
          "text": [
            "{1, 'b', 5, 'a', 'c'}\n"
          ],
          "name": "stdout"
        }
      ]
    },
    {
      "cell_type": "markdown",
      "metadata": {
        "id": "rQ5-FQY6BLoU",
        "colab_type": "text"
      },
      "source": [
        "Checking the set"
      ]
    },
    {
      "cell_type": "code",
      "metadata": {
        "id": "0gbK2JS4BMjJ",
        "colab_type": "code",
        "colab": {
          "base_uri": "https://localhost:8080/",
          "height": 51
        },
        "outputId": "f1f2ef4d-0029-4cd5-bbe7-4c3a371befc6"
      },
      "source": [
        "print(0 in set_1)\n",
        "print(\"d\" not in set_1)"
      ],
      "execution_count": 7,
      "outputs": [
        {
          "output_type": "stream",
          "text": [
            "False\n",
            "True\n"
          ],
          "name": "stdout"
        }
      ]
    },
    {
      "cell_type": "markdown",
      "metadata": {
        "id": "HvFTp052BkmS",
        "colab_type": "text"
      },
      "source": [
        "How to add multiple items to a set??\n"
      ]
    },
    {
      "cell_type": "code",
      "metadata": {
        "id": "EphoiBqRBmFu",
        "colab_type": "code",
        "colab": {
          "base_uri": "https://localhost:8080/",
          "height": 34
        },
        "outputId": "eea1acf4-00bf-43b3-d73c-b27d2c149148"
      },
      "source": [
        "set_1.update([\"D\",'F',\"a\",1])\n",
        "print(set_1)"
      ],
      "execution_count": 9,
      "outputs": [
        {
          "output_type": "stream",
          "text": [
            "{1, 'b', 'D', 5, 'a', 'c', 'F'}\n"
          ],
          "name": "stdout"
        }
      ]
    },
    {
      "cell_type": "markdown",
      "metadata": {
        "id": "ETS4LzMrBkiI",
        "colab_type": "text"
      },
      "source": [
        ""
      ]
    },
    {
      "cell_type": "code",
      "metadata": {
        "id": "DKgkCWHLCXPC",
        "colab_type": "code",
        "colab": {
          "base_uri": "https://localhost:8080/",
          "height": 85
        },
        "outputId": "c5406c94-8e11-4ec3-e0d5-b1c4d74be984"
      },
      "source": [
        "test={1,4,(3,1,4),1}\n",
        "test.discard(1)\n",
        "print(test)\n",
        "x=test.pop() \n",
        "print(x)\n",
        "print(test)\n",
        "test.clear()\n",
        "print(test)"
      ],
      "execution_count": 15,
      "outputs": [
        {
          "output_type": "stream",
          "text": [
            "{4, (3, 1, 4)}\n",
            "4\n",
            "{(3, 1, 4)}\n",
            "set()\n"
          ],
          "name": "stdout"
        }
      ]
    },
    {
      "cell_type": "code",
      "metadata": {
        "id": "u7Sfl8v0EZFK",
        "colab_type": "code",
        "colab": {
          "base_uri": "https://localhost:8080/",
          "height": 85
        },
        "outputId": "7ebdbdc6-5b33-44ec-ec47-7ef28da57d6f"
      },
      "source": [
        "set1 = {1,2,3}\n",
        "set2 = {3,4,5}\n",
        "print(set1.union(set2))\n",
        "print(set1.intersection(set2))\n",
        "print(set1.difference(set2) )\n",
        "\n",
        "print(set1^set2)"
      ],
      "execution_count": 19,
      "outputs": [
        {
          "output_type": "stream",
          "text": [
            "{1, 2, 3, 4, 5}\n",
            "{3}\n",
            "{1, 2}\n",
            "{1, 2, 4, 5}\n"
          ],
          "name": "stdout"
        }
      ]
    },
    {
      "cell_type": "code",
      "metadata": {
        "id": "DCw1nqMoEY9s",
        "colab_type": "code",
        "colab": {}
      },
      "source": [
        ""
      ],
      "execution_count": null,
      "outputs": []
    }
  ]
}