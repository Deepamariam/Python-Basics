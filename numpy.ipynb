{
  "nbformat": 4,
  "nbformat_minor": 0,
  "metadata": {
    "colab": {
      "name": "numpy.ipynb",
      "provenance": [],
      "collapsed_sections": [],
      "authorship_tag": "ABX9TyNaV7r9jD4fYTC7Q+TA0PfW",
      "include_colab_link": true
    },
    "kernelspec": {
      "name": "python3",
      "display_name": "Python 3"
    }
  },
  "cells": [
    {
      "cell_type": "markdown",
      "metadata": {
        "id": "view-in-github",
        "colab_type": "text"
      },
      "source": [
        "<a href=\"https://colab.research.google.com/github/jeenu-chacko/Python-Basics/blob/master/numpy.ipynb\" target=\"_parent\"><img src=\"https://colab.research.google.com/assets/colab-badge.svg\" alt=\"Open In Colab\"/></a>"
      ]
    },
    {
      "cell_type": "code",
      "metadata": {
        "id": "s0FkmG52zryp",
        "colab_type": "code",
        "colab": {
          "base_uri": "https://localhost:8080/",
          "height": 34
        },
        "outputId": "38e0f7ee-195c-4282-937e-496ec5dead35"
      },
      "source": [
        "import numpy as np\n",
        "print(np.__version__)"
      ],
      "execution_count": 1,
      "outputs": [
        {
          "output_type": "stream",
          "text": [
            "1.18.5\n"
          ],
          "name": "stdout"
        }
      ]
    },
    {
      "cell_type": "code",
      "metadata": {
        "id": "HKaGfTf20bUb",
        "colab_type": "code",
        "colab": {
          "base_uri": "https://localhost:8080/",
          "height": 34
        },
        "outputId": "0bbd7cef-7436-4884-9437-b5948c5e4020"
      },
      "source": [
        "a=np.array([[1,2,3,4],[5,6,7]])\n",
        "print(a)"
      ],
      "execution_count": 8,
      "outputs": [
        {
          "output_type": "stream",
          "text": [
            "[list([1, 2, 3, 4]) list([5, 6, 7])]\n"
          ],
          "name": "stdout"
        }
      ]
    },
    {
      "cell_type": "code",
      "metadata": {
        "id": "Led2BPhp1Bh2",
        "colab_type": "code",
        "colab": {
          "base_uri": "https://localhost:8080/",
          "height": 34
        },
        "outputId": "6b30cef9-ce9c-4e8c-f109-d60208dc2256"
      },
      "source": [
        "a.ndim"
      ],
      "execution_count": 4,
      "outputs": [
        {
          "output_type": "execute_result",
          "data": {
            "text/plain": [
              "2"
            ]
          },
          "metadata": {
            "tags": []
          },
          "execution_count": 4
        }
      ]
    },
    {
      "cell_type": "code",
      "metadata": {
        "id": "8rgXiaBG1dDP",
        "colab_type": "code",
        "colab": {
          "base_uri": "https://localhost:8080/",
          "height": 34
        },
        "outputId": "056b8a55-e9bc-4538-9780-6a29ae72484e"
      },
      "source": [
        "a.dtype"
      ],
      "execution_count": 5,
      "outputs": [
        {
          "output_type": "execute_result",
          "data": {
            "text/plain": [
              "dtype('int64')"
            ]
          },
          "metadata": {
            "tags": []
          },
          "execution_count": 5
        }
      ]
    },
    {
      "cell_type": "code",
      "metadata": {
        "id": "wwwl411a10k0",
        "colab_type": "code",
        "colab": {
          "base_uri": "https://localhost:8080/",
          "height": 34
        },
        "outputId": "e4ba2fb9-5e11-4b16-fb97-c248d07a6e92"
      },
      "source": [
        "arr = np.array([1, 2, 3, 4], ndmin=5)\n",
        "arr"
      ],
      "execution_count": 6,
      "outputs": [
        {
          "output_type": "execute_result",
          "data": {
            "text/plain": [
              "array([[[[[1, 2, 3, 4]]]]])"
            ]
          },
          "metadata": {
            "tags": []
          },
          "execution_count": 6
        }
      ]
    },
    {
      "cell_type": "code",
      "metadata": {
        "id": "8aFzrDcRIrlb",
        "colab_type": "code",
        "colab": {
          "base_uri": "https://localhost:8080/",
          "height": 51
        },
        "outputId": "7fc50499-697c-4928-f396-68731fb17a6d"
      },
      "source": [
        "arr = np.array([1, 2, 3, 4])\n",
        "print(arr.reshape(2,2))"
      ],
      "execution_count": 122,
      "outputs": [
        {
          "output_type": "stream",
          "text": [
            "[[1 2]\n",
            " [3 4]]\n"
          ],
          "name": "stdout"
        }
      ]
    },
    {
      "cell_type": "code",
      "metadata": {
        "id": "9wfDcijd3NTy",
        "colab_type": "code",
        "colab": {
          "base_uri": "https://localhost:8080/",
          "height": 170
        },
        "outputId": "7f80aca1-7152-498e-806f-d942cbf1014e"
      },
      "source": [
        "arr1 =np.array([1,2,3,4,5])\n",
        "print(arr1[0])\n",
        "print(\"*******\")\n",
        "arr2 =np.array([[1,2,3,4,5],[6,7,8,9]])\n",
        "print(arr2[0])\n",
        "print(\"*******\")\n",
        "arr3 = np.array([[[1,2,3,4,5], [6,7,8,9,10]],[[11,12,13,14,15],[16,17,18,19]]])\n",
        "print(arr3[0])\n",
        "print(\"*******\")\n",
        "print(arr3[0][0])\n",
        "print(\"*******\")\n",
        "print(arr3[0,0][3])\n"
      ],
      "execution_count": 79,
      "outputs": [
        {
          "output_type": "stream",
          "text": [
            "1\n",
            "*******\n",
            "[1, 2, 3, 4, 5]\n",
            "*******\n",
            "[list([1, 2, 3, 4, 5]) list([6, 7, 8, 9, 10])]\n",
            "*******\n",
            "[1, 2, 3, 4, 5]\n",
            "*******\n",
            "4\n"
          ],
          "name": "stdout"
        }
      ]
    },
    {
      "cell_type": "code",
      "metadata": {
        "id": "Gu7QrYkf9YhU",
        "colab_type": "code",
        "colab": {
          "base_uri": "https://localhost:8080/",
          "height": 136
        },
        "outputId": "603bdc0b-6136-495a-c09a-3691b7aee80d"
      },
      "source": [
        "arr1 = np.array([1, 2, 3, 4, 5, 6, 7])\n",
        "print(arr1[2:])\n",
        "print(\"*******\")\n",
        "print(arr[-3:-1])\n",
        "print(\"*******\")\n",
        "print(arr[1:5:2])\n",
        "print(\"*******\")\n",
        "print(arr[::2])\n"
      ],
      "execution_count": 92,
      "outputs": [
        {
          "output_type": "stream",
          "text": [
            "[3 4 5 6 7]\n",
            "*******\n",
            "[5 6]\n",
            "*******\n",
            "[2 4]\n",
            "*******\n",
            "[1 3 5 7]\n"
          ],
          "name": "stdout"
        }
      ]
    },
    {
      "cell_type": "code",
      "metadata": {
        "id": "J20scHA_8kNQ",
        "colab_type": "code",
        "colab": {
          "base_uri": "https://localhost:8080/",
          "height": 170
        },
        "outputId": "c90950bc-2b8d-49cd-8ae7-03590affee7c"
      },
      "source": [
        "arr = np.array([[1, 2, 3, 4, 5], [6, 7, 8, 9, 10]])\n",
        "print(arr)\n",
        "print(\"*******\")\n",
        "print(arr[1])\n",
        "print(\"*******\")\n",
        "print(arr[1][1:])\n",
        "print(arr[1,1:])\n",
        "print(\"*******\")\n",
        "print(arr[0:2, 2])\n"
      ],
      "execution_count": 100,
      "outputs": [
        {
          "output_type": "stream",
          "text": [
            "[[ 1  2  3  4  5]\n",
            " [ 6  7  8  9 10]]\n",
            "*******\n",
            "[ 6  7  8  9 10]\n",
            "*******\n",
            "[ 7  8  9 10]\n",
            "[ 7  8  9 10]\n",
            "*******\n",
            "[3 8]\n"
          ],
          "name": "stdout"
        }
      ]
    },
    {
      "cell_type": "code",
      "metadata": {
        "id": "IIcBjYMf8gad",
        "colab_type": "code",
        "colab": {
          "base_uri": "https://localhost:8080/",
          "height": 85
        },
        "outputId": "2c207a67-0f05-41ce-c3a2-29cec05fb64c"
      },
      "source": [
        "#Change data type from float to integer by using int as parameter value:\n",
        "\n",
        "a=np.array([1,2,3,4])\n",
        "print(a.dtype)\n",
        "print(\"*******\")\n",
        "a=np.array([1,2,3,4]).astype(float)\n",
        "print(a.dtype)\n",
        "print(\"*******\")"
      ],
      "execution_count": 107,
      "outputs": [
        {
          "output_type": "stream",
          "text": [
            "int64\n",
            "*******\n",
            "float64\n",
            "*******\n"
          ],
          "name": "stdout"
        }
      ]
    },
    {
      "cell_type": "code",
      "metadata": {
        "id": "jZBXEn9NFzuO",
        "colab_type": "code",
        "colab": {
          "base_uri": "https://localhost:8080/",
          "height": 34
        },
        "outputId": "a5c95d6e-4515-4e51-b855-b5618b59e76c"
      },
      "source": [
        "arr = np.array([[1, 2, 3, 4,5], [7,5, 6, 7, 8]])\n",
        "n,l=arr.shape\n",
        "print(n*l)"
      ],
      "execution_count": 108,
      "outputs": [
        {
          "output_type": "stream",
          "text": [
            "10\n"
          ],
          "name": "stdout"
        }
      ]
    },
    {
      "cell_type": "code",
      "metadata": {
        "id": "3n7xuZGoGMKi",
        "colab_type": "code",
        "colab": {
          "base_uri": "https://localhost:8080/",
          "height": 34
        },
        "outputId": "52190008-637d-406c-a31b-5aaca94a126f"
      },
      "source": [
        "arr=np.array([7,2,3,1,9])\n",
        "print(np.sort(arr))"
      ],
      "execution_count": 110,
      "outputs": [
        {
          "output_type": "stream",
          "text": [
            "[1 2 3 7 9]\n"
          ],
          "name": "stdout"
        }
      ]
    },
    {
      "cell_type": "code",
      "metadata": {
        "id": "_6d1hykLGa4Y",
        "colab_type": "code",
        "colab": {
          "base_uri": "https://localhost:8080/",
          "height": 68
        },
        "outputId": "b2e99332-9eaa-479b-ee31-228c584e9652"
      },
      "source": [
        "arr = np.array([1, 2, 3, 4, 5, 4, 4])\n",
        "\n",
        "x = np.where(arr == 4)\n",
        "print(x)\n",
        "for x in x:\n",
        "  print(arr[x])\n",
        "x = np.where(arr%2 == 0)\n",
        "print(x)"
      ],
      "execution_count": 115,
      "outputs": [
        {
          "output_type": "stream",
          "text": [
            "(array([3, 5, 6]),)\n",
            "[4 4 4]\n",
            "(array([1, 3, 5, 6]),)\n"
          ],
          "name": "stdout"
        }
      ]
    }
  ]
}