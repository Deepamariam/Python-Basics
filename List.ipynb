{
  "nbformat": 4,
  "nbformat_minor": 0,
  "metadata": {
    "colab": {
      "name": "List.ipynb",
      "provenance": [],
      "collapsed_sections": [],
      "authorship_tag": "ABX9TyM2uizKiY5p5/bIDQtu5MBI",
      "include_colab_link": true
    },
    "kernelspec": {
      "name": "python3",
      "display_name": "Python 3"
    }
  },
  "cells": [
    {
      "cell_type": "markdown",
      "metadata": {
        "id": "view-in-github",
        "colab_type": "text"
      },
      "source": [
        "<a href=\"https://colab.research.google.com/github/jeenu-chacko/Python-Basics/blob/master/List.ipynb\" target=\"_parent\"><img src=\"https://colab.research.google.com/assets/colab-badge.svg\" alt=\"Open In Colab\"/></a>"
      ]
    },
    {
      "cell_type": "markdown",
      "metadata": {
        "id": "YZtERNGbg-DS",
        "colab_type": "text"
      },
      "source": [
        "# **List**\n",
        "List is a collection\n",
        "\n",
        "1.mutable\n",
        "\n",
        "2.ordered (use indexes)\n",
        "\n",
        "3.allows duplicates\n",
        "\n",
        "4.dynamic\n",
        "\n",
        "5.supports any data types\n",
        "\n"
      ]
    },
    {
      "cell_type": "code",
      "metadata": {
        "id": "9KGub3aUhO4C",
        "colab_type": "code",
        "colab": {
          "base_uri": "https://localhost:8080/",
          "height": 34
        },
        "outputId": "9a12e72e-0910-4d5f-e3f2-5122834589f9"
      },
      "source": [
        "f_list=[] #empty list \n",
        "\n",
        "for i in range(1,6):\n",
        "  f_list.append(i)  \n",
        "\n",
        "print(f_list)"
      ],
      "execution_count": null,
      "outputs": [
        {
          "output_type": "stream",
          "text": [
            "[1, 2, 3, 4, 5]\n"
          ],
          "name": "stdout"
        }
      ]
    },
    {
      "cell_type": "code",
      "metadata": {
        "id": "UA3YZVJnhzoj",
        "colab_type": "code",
        "colab": {}
      },
      "source": [
        "strlist = ['Python','Java','C++']\n",
        "print(strlist)\n",
        "\n",
        "floatlist = [2.3,1.33,14.8,14.8]   #allows duplicates\n",
        "print(floatlist)\n",
        "\n",
        "mixed_list=['python',7,'c++',8.9,True] # mixed list\n",
        "print(mixed_list)"
      ],
      "execution_count": null,
      "outputs": []
    },
    {
      "cell_type": "markdown",
      "metadata": {
        "id": "k3Sn9wvX4vuz",
        "colab_type": "text"
      },
      "source": [
        "# **Slicing**"
      ]
    },
    {
      "cell_type": "code",
      "metadata": {
        "id": "DGErHRNs40xh",
        "colab_type": "code",
        "colab": {
          "base_uri": "https://localhost:8080/",
          "height": 85
        },
        "outputId": "b36978f3-754f-40f4-e953-f528af10f18b"
      },
      "source": [
        "first_list=['2','hello',5,9]\n",
        "print(first_list[1])\n",
        "print(first_list[0:3:1])\n",
        "print(first_list[0:3:2]) \n",
        "print(first_list[::3]) #default step is 1"
      ],
      "execution_count": null,
      "outputs": [
        {
          "output_type": "stream",
          "text": [
            "hello\n",
            "['2', 'hello', 5]\n",
            "['2', 5]\n",
            "['2', 9]\n"
          ],
          "name": "stdout"
        }
      ]
    },
    {
      "cell_type": "markdown",
      "metadata": {
        "id": "y53Pi79UiJ-R",
        "colab_type": "text"
      },
      "source": [
        "# **Extend**"
      ]
    },
    {
      "cell_type": "code",
      "metadata": {
        "id": "snEvfAPEiQcb",
        "colab_type": "code",
        "colab": {
          "base_uri": "https://localhost:8080/",
          "height": 68
        },
        "outputId": "4469cfc1-c0be-4cb8-d028-0ea6db72f3ca"
      },
      "source": [
        "list_1 = [1,2,3]\n",
        "list_2 = [4,5]\n",
        "print(list_1)\n",
        "list_1.extend(list_2)\n",
        "print(\"list after extending list 2\",list_1)\n",
        "\n",
        "list_2 = list_1+list_2\n",
        "print(list_2)"
      ],
      "execution_count": null,
      "outputs": [
        {
          "output_type": "stream",
          "text": [
            "[1, 2, 3]\n",
            "list after extending list 2 [1, 2, 3, 4, 5]\n",
            "[1, 2, 3, 4, 5, 4, 5]\n"
          ],
          "name": "stdout"
        }
      ]
    },
    {
      "cell_type": "markdown",
      "metadata": {
        "id": "tugZ_syJjHpf",
        "colab_type": "text"
      },
      "source": [
        "# **Append**"
      ]
    },
    {
      "cell_type": "code",
      "metadata": {
        "id": "4s6kh9H8jMHY",
        "colab_type": "code",
        "colab": {
          "base_uri": "https://localhost:8080/",
          "height": 34
        },
        "outputId": "0972dcf7-c681-4903-a33a-1bd5b26324a6"
      },
      "source": [
        "f_list=[]\n",
        "for i in range(1,6):\n",
        "  f_list.append(i)\n",
        "\n",
        "print(f_list)"
      ],
      "execution_count": null,
      "outputs": [
        {
          "output_type": "stream",
          "text": [
            "[1, 2, 3, 4, 5]\n"
          ],
          "name": "stdout"
        }
      ]
    },
    {
      "cell_type": "markdown",
      "metadata": {
        "id": "vd97GmAlkHwu",
        "colab_type": "text"
      },
      "source": [
        "# **Insert**"
      ]
    },
    {
      "cell_type": "code",
      "metadata": {
        "id": "lfZyw86zkMBX",
        "colab_type": "code",
        "colab": {
          "base_uri": "https://localhost:8080/",
          "height": 68
        },
        "outputId": "61b5d08c-b5fe-45d2-893c-ac3defd57447"
      },
      "source": [
        "list_f=[1,0]\n",
        "list_f.insert(1,6)\n",
        "print(\"list 2 after inserting element 6 at index 1:\",list_f)\n",
        "\n",
        "list_f.insert(3,4)\n",
        "print(list_f)\n",
        "\n",
        "list_f.insert(6,7)\n",
        "print(list_f)"
      ],
      "execution_count": null,
      "outputs": [
        {
          "output_type": "stream",
          "text": [
            "list 2 after inserting element 6 at index 1: [1, 6, 0]\n",
            "[1, 6, 0, 4]\n",
            "[1, 6, 0, 4, 7]\n"
          ],
          "name": "stdout"
        }
      ]
    },
    {
      "cell_type": "markdown",
      "metadata": {
        "id": "3kBEc5zhkHsW",
        "colab_type": "text"
      },
      "source": [
        "# **Removing elements from list**"
      ]
    },
    {
      "cell_type": "code",
      "metadata": {
        "id": "MaLWRZjskiq2",
        "colab_type": "code",
        "colab": {
          "base_uri": "https://localhost:8080/",
          "height": 34
        },
        "outputId": "e784603c-5dc5-4cb5-dd0c-e9fd0df1ee39"
      },
      "source": [
        "list_f = [\"hai\", 2, \"c\"]\n",
        "list_f.remove(\"hai\")\n",
        "print(list_f)"
      ],
      "execution_count": null,
      "outputs": [
        {
          "output_type": "stream",
          "text": [
            "[2, 'c']\n"
          ],
          "name": "stdout"
        }
      ]
    },
    {
      "cell_type": "markdown",
      "metadata": {
        "id": "W3rVuBF1n2Jh",
        "colab_type": "text"
      },
      "source": [
        "popping from list\n",
        "\n",
        "removes an element and returns it"
      ]
    },
    {
      "cell_type": "code",
      "metadata": {
        "id": "BLz_gpVFn8v6",
        "colab_type": "code",
        "colab": {
          "base_uri": "https://localhost:8080/",
          "height": 34
        },
        "outputId": "614abb6b-a5d5-44d7-f5cc-603e384e7afc"
      },
      "source": [
        "list_f = list((0,1,2,3))\n",
        "print(list_f)"
      ],
      "execution_count": null,
      "outputs": [
        {
          "output_type": "stream",
          "text": [
            "[0, 1, 2, 3]\n"
          ],
          "name": "stdout"
        }
      ]
    },
    {
      "cell_type": "code",
      "metadata": {
        "id": "eQeI9wCGoNyj",
        "colab_type": "code",
        "colab": {
          "base_uri": "https://localhost:8080/",
          "height": 34
        },
        "outputId": "d65bf255-5fdf-4b43-fd94-b27e54030f13"
      },
      "source": [
        "p = list_f.pop()\n",
        "print(p)"
      ],
      "execution_count": null,
      "outputs": [
        {
          "output_type": "stream",
          "text": [
            "3\n"
          ],
          "name": "stdout"
        }
      ]
    },
    {
      "cell_type": "markdown",
      "metadata": {
        "id": "VRkMwhlBoskf",
        "colab_type": "text"
      },
      "source": [
        "# **Copy**"
      ]
    },
    {
      "cell_type": "code",
      "metadata": {
        "id": "OkdjB4TjowQx",
        "colab_type": "code",
        "colab": {
          "base_uri": "https://localhost:8080/",
          "height": 51
        },
        "outputId": "2a8f1d64-9dd4-47d0-c066-7d0b948293c2"
      },
      "source": [
        "list1 = ['hai','hello']\n",
        "list2 = list1.copy()\n",
        "print(\"list 1\",list1)\n",
        "print(\"list 2\",list2)"
      ],
      "execution_count": null,
      "outputs": [
        {
          "output_type": "stream",
          "text": [
            "list 1 ['hai', 'hello']\n",
            "list 2 ['hai', 'hello']\n"
          ],
          "name": "stdout"
        }
      ]
    },
    {
      "cell_type": "markdown",
      "metadata": {
        "id": "EOObV91RpBBP",
        "colab_type": "text"
      },
      "source": [
        "# **Reversing and sorting lists**"
      ]
    },
    {
      "cell_type": "code",
      "metadata": {
        "id": "TLRO6awypEtV",
        "colab_type": "code",
        "colab": {
          "base_uri": "https://localhost:8080/",
          "height": 68
        },
        "outputId": "e393b883-7f6c-4dc6-8ed2-657b9abbf304"
      },
      "source": [
        "list1=[4,5,3,2,1]\n",
        "print(\"list 1\",list1)\n",
        "\n",
        "list1.reverse()\n",
        "#reversed list\n",
        "print(\"reversed list\",list1)\n",
        "\n",
        "list1.sort()\n",
        "#sorted list\n",
        "print(\"sorted list\",list1)"
      ],
      "execution_count": null,
      "outputs": [
        {
          "output_type": "stream",
          "text": [
            "list 1 [4, 5, 3, 2, 1]\n",
            "reversed list [1, 2, 3, 5, 4]\n",
            "sorted list [1, 2, 3, 4, 5]\n"
          ],
          "name": "stdout"
        }
      ]
    },
    {
      "cell_type": "markdown",
      "metadata": {
        "id": "FonDhGa5pnvn",
        "colab_type": "text"
      },
      "source": [
        "# **Split & Join** "
      ]
    },
    {
      "cell_type": "code",
      "metadata": {
        "id": "6-E24xY_psBT",
        "colab_type": "code",
        "colab": {
          "base_uri": "https://localhost:8080/",
          "height": 51
        },
        "outputId": "34448e36-5b8e-4e56-a9dc-ce4ebf8c36fd"
      },
      "source": [
        "str = \"hello world\"\n",
        "list_1 = str.split(' ')\n",
        "print(\"splitting at whitespace:\",list_1)\n",
        "\n",
        "\n",
        "list_2 = str.split('o')\n",
        "print(\"splitting at o\",list_2)"
      ],
      "execution_count": null,
      "outputs": [
        {
          "output_type": "stream",
          "text": [
            "splitting at whitespace: ['hello', 'world']\n",
            "splitting at o ['hell', ' w', 'rld']\n"
          ],
          "name": "stdout"
        }
      ]
    },
    {
      "cell_type": "code",
      "metadata": {
        "id": "05Moc0oKqVQo",
        "colab_type": "code",
        "colab": {
          "base_uri": "https://localhost:8080/",
          "height": 34
        },
        "outputId": "fa385ffd-ce07-46d6-85ce-bdcda294708c"
      },
      "source": [
        "print(\" \".join(list_1))"
      ],
      "execution_count": null,
      "outputs": [
        {
          "output_type": "stream",
          "text": [
            "hello world\n"
          ],
          "name": "stdout"
        }
      ]
    },
    {
      "cell_type": "code",
      "metadata": {
        "id": "5_19cPUwqrhI",
        "colab_type": "code",
        "colab": {}
      },
      "source": [
        ""
      ],
      "execution_count": null,
      "outputs": []
    },
    {
      "cell_type": "code",
      "metadata": {
        "id": "JR0WiyFkqrmD",
        "colab_type": "code",
        "colab": {
          "base_uri": "https://localhost:8080/",
          "height": 34
        },
        "outputId": "574c47aa-fcd2-4676-a158-8053ff313789"
      },
      "source": [
        "print('o'.join(list_2))"
      ],
      "execution_count": null,
      "outputs": [
        {
          "output_type": "stream",
          "text": [
            "hello world\n"
          ],
          "name": "stdout"
        }
      ]
    },
    {
      "cell_type": "markdown",
      "metadata": {
        "id": "RHCYOiqasXK0",
        "colab_type": "text"
      },
      "source": [
        "# **List Comprehension**\n"
      ]
    },
    {
      "cell_type": "code",
      "metadata": {
        "id": "w4xyMZn-sea2",
        "colab_type": "code",
        "colab": {
          "base_uri": "https://localhost:8080/",
          "height": 68
        },
        "outputId": "7f175c99-62be-4a86-8ef0-d28b4d84df5d"
      },
      "source": [
        "list_f = [i for i in range (0,6)]\n",
        "print(list_f)\n",
        "list_s = [i*2 for i in list_f]\n",
        "print(list_s)\n",
        "\n",
        "list_2d = [[i*2 for i in list_f] for j in range(2)]\n",
        "print(list_2d)"
      ],
      "execution_count": null,
      "outputs": [
        {
          "output_type": "stream",
          "text": [
            "[0, 1, 2, 3, 4, 5]\n",
            "[0, 2, 4, 6, 8, 10]\n",
            "[[0, 2, 4, 6, 8, 10], [0, 2, 4, 6, 8, 10]]\n"
          ],
          "name": "stdout"
        }
      ]
    },
    {
      "cell_type": "code",
      "metadata": {
        "id": "tWExzULrwAKQ",
        "colab_type": "code",
        "colab": {
          "base_uri": "https://localhost:8080/",
          "height": 51
        },
        "outputId": "b803cfc9-cedc-4672-dad5-e111e75b3d7e"
      },
      "source": [
        "# Transpose of matrix\n",
        "\n",
        "matrix_1 = [[1,2],[3,4],[5,6]]\n",
        "\n",
        "print([[row[i] for row in matrix_1] for i in range(2)])\n",
        "\n",
        "\n",
        "matrix_2 = [[1,2,3],[4,5,6],[7,8,9]]\n",
        "print([[row[i] for row in matrix_2] for i in range(3)])\n"
      ],
      "execution_count": null,
      "outputs": [
        {
          "output_type": "stream",
          "text": [
            "[[1, 3, 5], [2, 4, 6]]\n",
            "[[1, 4, 7], [2, 5, 8], [3, 6, 9]]\n"
          ],
          "name": "stdout"
        }
      ]
    },
    {
      "cell_type": "markdown",
      "metadata": {
        "id": "hsL5XirX8-P9",
        "colab_type": "text"
      },
      "source": [
        "# **Zip**"
      ]
    },
    {
      "cell_type": "code",
      "metadata": {
        "id": "gASSvagZ9By9",
        "colab_type": "code",
        "colab": {
          "base_uri": "https://localhost:8080/",
          "height": 34
        },
        "outputId": "78895ea1-abd7-494e-8d4f-c6d4fdc3261b"
      },
      "source": [
        "name = ['A','B','C']\n",
        "mark = [9,10,8]\n",
        "print(list(zip(name,mark)))"
      ],
      "execution_count": 6,
      "outputs": [
        {
          "output_type": "stream",
          "text": [
            "[('A', 9), ('B', 10), ('C', 8)]\n"
          ],
          "name": "stdout"
        }
      ]
    },
    {
      "cell_type": "code",
      "metadata": {
        "id": "NxgBhutz9tri",
        "colab_type": "code",
        "colab": {
          "base_uri": "https://localhost:8080/",
          "height": 68
        },
        "outputId": "4ea1cec7-28f1-40ed-f05a-50a1741b537e"
      },
      "source": [
        "for i,j in zip(name,mark):\n",
        "  print(\"{} {}\".format(i,j))\n"
      ],
      "execution_count": 19,
      "outputs": [
        {
          "output_type": "stream",
          "text": [
            "A 9\n",
            "B 10\n",
            "C 8\n"
          ],
          "name": "stdout"
        }
      ]
    },
    {
      "cell_type": "markdown",
      "metadata": {
        "id": "KJpvbub61EBp",
        "colab_type": "text"
      },
      "source": [
        "# **Tricks**"
      ]
    },
    {
      "cell_type": "code",
      "metadata": {
        "id": "-Gg3mq1L1GhS",
        "colab_type": "code",
        "colab": {}
      },
      "source": [
        "#Reversing Strings using list slicing\n",
        "list1 = [\"a\",\"b\",\"c\",\"d\"]\n",
        "print(list1[::-1])\n",
        "\n",
        "# Reversing Numbers\n",
        "list2 = [1,3,6,4,2]\n",
        "print(list2[::-1])\n",
        "\n",
        "List = [1,2,3]\n",
        "w, v, t = List\n",
        "print(v, w, t )"
      ],
      "execution_count": null,
      "outputs": []
    }
  ]
}