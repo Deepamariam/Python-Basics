{
  "nbformat": 4,
  "nbformat_minor": 0,
  "metadata": {
    "colab": {
      "name": "patten",
      "provenance": [],
      "collapsed_sections": [],
      "authorship_tag": "ABX9TyNz5gRCeRt3YAPK+Z3GxoOe",
      "include_colab_link": true
    },
    "kernelspec": {
      "name": "python3",
      "display_name": "Python 3"
    },
    "accelerator": "GPU"
  },
  "cells": [
    {
      "cell_type": "markdown",
      "metadata": {
        "id": "view-in-github",
        "colab_type": "text"
      },
      "source": [
        "<a href=\"https://colab.research.google.com/github/jeenu-chacko/Python-Basics/blob/master/patten.ipynb\" target=\"_parent\"><img src=\"https://colab.research.google.com/assets/colab-badge.svg\" alt=\"Open In Colab\"/></a>"
      ]
    },
    {
      "cell_type": "code",
      "metadata": {
        "id": "ljisHsvX3OU5",
        "colab_type": "code",
        "colab": {
          "base_uri": "https://localhost:8080/",
          "height": 102
        },
        "outputId": "c5774776-6100-4d36-dae9-dbc39c0fc9d9"
      },
      "source": [
        "for i in range(1,6):\n",
        "  for j in range(1,i+1):\n",
        "    print(i,end=' ')\n",
        "  print('')"
      ],
      "execution_count": null,
      "outputs": [
        {
          "output_type": "stream",
          "text": [
            "1 \n",
            "2 2 \n",
            "3 3 3 \n",
            "4 4 4 4 \n",
            "5 5 5 5 5 \n"
          ],
          "name": "stdout"
        }
      ]
    },
    {
      "cell_type": "code",
      "metadata": {
        "id": "CHvlxN1k978l",
        "colab_type": "code",
        "colab": {
          "base_uri": "https://localhost:8080/",
          "height": 119
        },
        "outputId": "8d32a443-363e-4966-812a-6866c7de49f9"
      },
      "source": [
        "for i in range(6,0,-1):\n",
        "  for j in range(1,i+1):\n",
        "    print(j,end=' ')\n",
        "  print('')"
      ],
      "execution_count": null,
      "outputs": [
        {
          "output_type": "stream",
          "text": [
            "1 2 3 4 5 6 \n",
            "1 2 3 4 5 \n",
            "1 2 3 4 \n",
            "1 2 3 \n",
            "1 2 \n",
            "1 \n"
          ],
          "name": "stdout"
        }
      ]
    },
    {
      "cell_type": "code",
      "metadata": {
        "id": "lUBZPEN1-5V-",
        "colab_type": "code",
        "colab": {
          "base_uri": "https://localhost:8080/",
          "height": 136
        },
        "outputId": "937920d4-cbcd-45c2-e889-f682f9d5e400"
      },
      "source": [
        "for i in range(7,0,-1):\n",
        "  for j in range(0,i):\n",
        "    print(2**j,end=' ')\n",
        "  print('')\n"
      ],
      "execution_count": null,
      "outputs": [
        {
          "output_type": "stream",
          "text": [
            "1 2 4 8 16 32 64 \n",
            "1 2 4 8 16 32 \n",
            "1 2 4 8 16 \n",
            "1 2 4 8 \n",
            "1 2 4 \n",
            "1 2 \n",
            "1 \n"
          ],
          "name": "stdout"
        }
      ]
    },
    {
      "cell_type": "code",
      "metadata": {
        "id": "aOe6yTl3LDny",
        "colab_type": "code",
        "colab": {
          "base_uri": "https://localhost:8080/",
          "height": 136
        },
        "outputId": "2175c130-2a69-4cd8-f728-92ae6e647198"
      },
      "source": [
        "for i in range(1,8):\n",
        "  for j in range(0,i):\n",
        "    print(2**j,end=' ')\n",
        "  print('')\n"
      ],
      "execution_count": null,
      "outputs": [
        {
          "output_type": "stream",
          "text": [
            "1 \n",
            "1 2 \n",
            "1 2 4 \n",
            "1 2 4 8 \n",
            "1 2 4 8 16 \n",
            "1 2 4 8 16 32 \n",
            "1 2 4 8 16 32 64 \n"
          ],
          "name": "stdout"
        }
      ]
    },
    {
      "cell_type": "code",
      "metadata": {
        "id": "_SxigotkLT6w",
        "colab_type": "code",
        "colab": {
          "base_uri": "https://localhost:8080/",
          "height": 153
        },
        "outputId": "052c25e7-8e04-4580-a62b-60cf2324111c"
      },
      "source": [
        "for i in range(1,9):\n",
        "  for j in range(0,i):\n",
        "    print(2**j,end=' ')\n",
        "  print('')"
      ],
      "execution_count": null,
      "outputs": [
        {
          "output_type": "stream",
          "text": [
            "1 \n",
            "1 2 \n",
            "1 2 4 \n",
            "1 2 4 8 \n",
            "1 2 4 8 16 \n",
            "1 2 4 8 16 32 \n",
            "1 2 4 8 16 32 64 \n",
            "1 2 4 8 16 32 64 128 \n"
          ],
          "name": "stdout"
        }
      ]
    },
    {
      "cell_type": "code",
      "metadata": {
        "id": "QwdgY2fOMNDJ",
        "colab_type": "code",
        "colab": {
          "base_uri": "https://localhost:8080/",
          "height": 153
        },
        "outputId": "3e812adb-4a0b-425d-c832-926da8412ba5"
      },
      "source": [
        "for i in range(1,9):\n",
        "  for j in range(i,0,-1):\n",
        "    print(2**(j-1),end=' ')\n",
        "  print('')"
      ],
      "execution_count": null,
      "outputs": [
        {
          "output_type": "stream",
          "text": [
            "1 \n",
            "2 1 \n",
            "4 2 1 \n",
            "8 4 2 1 \n",
            "16 8 4 2 1 \n",
            "32 16 8 4 2 1 \n",
            "64 32 16 8 4 2 1 \n",
            "128 64 32 16 8 4 2 1 \n"
          ],
          "name": "stdout"
        }
      ]
    },
    {
      "cell_type": "code",
      "metadata": {
        "id": "d8kDs2lsOnEU",
        "colab_type": "code",
        "colab": {
          "base_uri": "https://localhost:8080/",
          "height": 119
        },
        "outputId": "4c411592-50a4-407c-86e7-9fea89d7369e"
      },
      "source": [
        "for i in range(1,7):\n",
        "  for j in range(0,i):\n",
        "    print(2**(j),end=\" \")\n",
        "  for k in range(i-1,0,-1):\n",
        "    print(2**(k-1),end=\" \")\n",
        "  print('')\n",
        "\n"
      ],
      "execution_count": null,
      "outputs": [
        {
          "output_type": "stream",
          "text": [
            "1 \n",
            "1 2 1 \n",
            "1 2 4 2 1 \n",
            "1 2 4 8 4 2 1 \n",
            "1 2 4 8 16 8 4 2 1 \n",
            "1 2 4 8 16 32 16 8 4 2 1 \n"
          ],
          "name": "stdout"
        }
      ]
    },
    {
      "cell_type": "code",
      "metadata": {
        "id": "IJhLMShCSb7D",
        "colab_type": "code",
        "colab": {
          "base_uri": "https://localhost:8080/",
          "height": 102
        },
        "outputId": "2e8fa77a-d10a-46a9-a188-5d67e6b81e85"
      },
      "source": [
        "no=1\n",
        "for i in range(0,5):\n",
        "  for j in range(i+1,0,-1):\n",
        "    print(no,end=\" \")\n",
        "    no+=1\n",
        "  print('')"
      ],
      "execution_count": null,
      "outputs": [
        {
          "output_type": "stream",
          "text": [
            "1 \n",
            "2 3 \n",
            "4 5 6 \n",
            "7 8 9 10 \n",
            "11 12 13 14 15 \n"
          ],
          "name": "stdout"
        }
      ]
    },
    {
      "cell_type": "code",
      "metadata": {
        "id": "Gwx4Fdd_jM3L",
        "colab_type": "code",
        "colab": {
          "base_uri": "https://localhost:8080/",
          "height": 85
        },
        "outputId": "d25b0255-e1c9-4e97-c4ea-943c5987aeb8"
      },
      "source": [
        "start =1\n",
        "stop=2\n",
        "num=2\n",
        "for i in range(2,6):      \n",
        "  for j in range(start,stop):#\n",
        "    num=num-1\n",
        "    print(num,end=' ')\n",
        "  print('')\n",
        "  start=stop\n",
        "  stop=stop+i\n",
        "  num=stop\n"
      ],
      "execution_count": null,
      "outputs": [
        {
          "output_type": "stream",
          "text": [
            "1 \n",
            "3 2 \n",
            "6 5 4 \n",
            "10 9 8 7 \n"
          ],
          "name": "stdout"
        }
      ]
    },
    {
      "cell_type": "code",
      "metadata": {
        "id": "Qb5rFuiaTi_J",
        "colab_type": "code",
        "colab": {
          "base_uri": "https://localhost:8080/",
          "height": 119
        },
        "outputId": "0bb84b6a-6a2d-4d80-aa11-6fa916711801"
      },
      "source": [
        "r = int(input())\n",
        "for i in range(1,r+1):\n",
        "  for j in range(1,i):\n",
        "    print(5*j,end=' ')\n",
        "  print('')\n"
      ],
      "execution_count": 3,
      "outputs": [
        {
          "output_type": "stream",
          "text": [
            "5\n",
            "\n",
            "5 \n",
            "5 10 \n",
            "5 10 15 \n",
            "5 10 15 20 \n"
          ],
          "name": "stdout"
        }
      ]
    },
    {
      "cell_type": "code",
      "metadata": {
        "id": "EfihbHGqCkwo",
        "colab_type": "code",
        "colab": {
          "base_uri": "https://localhost:8080/",
          "height": 136
        },
        "outputId": "9e1b4783-75c6-446c-ed1a-60c7f3504292"
      },
      "source": [
        "r = int(input())\n",
        "for i in range(r):\n",
        "  for j in range(r-i-1):\n",
        "    print(\" \",end=\"\")\n",
        "  for j in range(i+1):\n",
        "    print(\"*\",end=\" \")\n",
        "  print(\" \")"
      ],
      "execution_count": 7,
      "outputs": [
        {
          "output_type": "stream",
          "text": [
            "6\n",
            "     *  \n",
            "    * *  \n",
            "   * * *  \n",
            "  * * * *  \n",
            " * * * * *  \n",
            "* * * * * *  \n"
          ],
          "name": "stdout"
        }
      ]
    },
    {
      "cell_type": "code",
      "metadata": {
        "id": "pyFboxqeEbMB",
        "colab_type": "code",
        "colab": {
          "base_uri": "https://localhost:8080/",
          "height": 85
        },
        "outputId": "59c5e83c-c135-4c3b-f069-2795267861cc"
      },
      "source": [
        "for i in range(1,5):\n",
        "  for j in range(1,8):\n",
        "    if i==4 or  i+j==5 or j-i==3:\n",
        "      print('*',end=\"\")\n",
        "    else:\n",
        "      print(\"\",end=\" \")\n",
        "  print(\"\") \n"
      ],
      "execution_count": 18,
      "outputs": [
        {
          "output_type": "stream",
          "text": [
            "   *   \n",
            "  * *  \n",
            " *   * \n",
            "*******\n"
          ],
          "name": "stdout"
        }
      ]
    }
  ]
}